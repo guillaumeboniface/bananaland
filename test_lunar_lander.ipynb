{
 "cells": [
  {
   "cell_type": "code",
   "execution_count": 1,
   "metadata": {},
   "outputs": [
    {
     "name": "stderr",
     "output_type": "stream",
     "text": [
      "Using TensorFlow backend.\n"
     ]
    }
   ],
   "source": [
    "import gym\n",
    "import numpy as np\n",
    "from agent import DLQAgent\n",
    "from datetime import datetime\n",
    "import sys\n",
    "import json"
   ]
  },
  {
   "cell_type": "code",
   "execution_count": 2,
   "metadata": {},
   "outputs": [
    {
     "name": "stderr",
     "output_type": "stream",
     "text": [
      "/Users/boniface/opt/miniconda3/envs/drlnd/lib/python3.6/site-packages/gym/logger.py:30: UserWarning: \u001b[33mWARN: Box bound precision lowered by casting to float32\u001b[0m\n",
      "  warnings.warn(colorize('%s: %s'%('WARN', msg % args), 'yellow'))\n"
     ]
    },
    {
     "name": "stdout",
     "output_type": "stream",
     "text": [
      "State shape:  (8,)\n",
      "Number of actions:  4\n"
     ]
    }
   ],
   "source": [
    "env = gym.make('LunarLander-v2')\n",
    "env.seed(0)\n",
    "print('State shape: ', env.observation_space.shape)\n",
    "print('Number of actions: ', env.action_space.n)"
   ]
  },
  {
   "cell_type": "code",
   "execution_count": null,
   "metadata": {},
   "outputs": [],
   "source": [
    "def dqn(n_episodes=2000, max_t=1000, eps_start=1.0, eps_end=0.01, eps_decay=0.995):\n",
    "    \"\"\"Deep Q-Learning.\n",
    "    \n",
    "    Params\n",
    "    ======\n",
    "        n_episodes (int): maximum number of training episodes\n",
    "        max_t (int): maximum number of timesteps per episode\n",
    "        eps_start (float): starting value of epsilon, for epsilon-greedy action selection\n",
    "        eps_end (float): minimum value of epsilon\n",
    "        eps_decay (float): multiplicative factor (per episode) for decreasing epsilon\n",
    "    \"\"\"\n",
    "    scores = []                        # list containing scores from each episode\n",
    "    scores_window = deque(maxlen=100)  # last 100 scores\n",
    "    eps = eps_start                    # initialize epsilon\n",
    "    for i_episode in range(1, n_episodes+1):\n",
    "        state = env.reset()\n",
    "        score = 0\n",
    "        for t in range(max_t):\n",
    "            action = agent.act(state, eps)\n",
    "            next_state, reward, done, _ = env.step(action)\n",
    "            agent.step(state, action, reward, next_state, done)\n",
    "            state = next_state\n",
    "            score += reward\n",
    "            if done:\n",
    "                break \n",
    "        scores_window.append(score)       # save most recent score\n",
    "        scores.append(score)              # save most recent score\n",
    "        eps = max(eps_end, eps_decay*eps) # decrease epsilon\n",
    "        print('\\rEpisode {}\\tAverage Score: {:.2f}'.format(i_episode, np.mean(scores_window)), end=\"\")\n",
    "        if i_episode % 100 == 0:\n",
    "            print('\\rEpisode {}\\tAverage Score: {:.2f}'.format(i_episode, np.mean(scores_window)))\n",
    "        if np.mean(scores_window)>=200.0:\n",
    "            print('\\nEnvironment solved in {:d} episodes!\\tAverage Score: {:.2f}'.format(i_episode-100, np.mean(scores_window)))\n",
    "            torch.save(agent.qnetwork_local.state_dict(), 'checkpoint.pth')\n",
    "            break\n",
    "    return scores\n",
    "\n",
    "scores = dqn()"
   ]
  },
  {
   "cell_type": "code",
   "execution_count": 5,
   "metadata": {},
   "outputs": [],
   "source": [
    "class Config:\n",
    "    def __init__(self):\n",
    "        self.num_episodes = 500\n",
    "        self.gamma = 0.99\n",
    "        self.epsilon_start = 0\n",
    "        self.epsilon_decay = 0.995\n",
    "        self.epsilon_min = 0\n",
    "        self.tau = 1e-3\n",
    "        self.memory_size = int(1e5)\n",
    "        self.min_prioritization = 1e-4\n",
    "        self.prioritization_exponent = 0\n",
    "        self.prioritization_importance_sampling_start = 0\n",
    "        self.prioritization_importance_sampling_end = 0\n",
    "        self.batch_size = 64\n",
    "        self.update_every = 10\n",
    "        self.mlp_layers = (200, 150)\n",
    "        self.learning_rate = 5e-4\n",
    "        \n",
    "        \n",
    "    def as_dict(self):\n",
    "        return self.__dict__\n",
    "\n",
    "dlq_agent = DLQAgent(Config(), env.action_space.n, env.observation_space.shape[0])"
   ]
  },
  {
   "cell_type": "code",
   "execution_count": 8,
   "metadata": {},
   "outputs": [],
   "source": [
    "def rolling_avg_scores(scores, window):\n",
    "    if len(scores) <= window:\n",
    "        return [np.mean(scores)]\n",
    "    else:\n",
    "        return [np.mean(scores[x:x+window]) for x in range(len(scores) - window + 1)]\n",
    "\n",
    "def run(env, agent, num_episodes=1500):\n",
    "    start_time = datetime.utcnow()\n",
    "    scores = []\n",
    "    health_checks = []\n",
    "    for i_episode in range(num_episodes):\n",
    "        state = env.reset()\n",
    "        score = 0\n",
    "        while True:\n",
    "            action = agent.act(state)                      # select an action\n",
    "            next_state, reward, done, _ = env.step(action) # send the action to the environment\n",
    "            score += reward                                # update the score\n",
    "            agent.step(\n",
    "                state, action, next_state, reward, done)   # update the agent\n",
    "            state = next_state                             # roll over the state to next time step\n",
    "            if done:                                       # exit loop if episode finished\n",
    "                scores.append(score)\n",
    "                break\n",
    "        health_check = agent.health_check()\n",
    "        health_checks.append(health_check)\n",
    "        model1_loss, memory_max_prioritization, memory_size = health_check\n",
    "        print(\"\\rEpisode %d/%d | Max Average Score: %.2f | Model 1 loss: %.2f | Memory max prioritization: %.2f | Memory size: %d\" % (\n",
    "            i_episode,\n",
    "            num_episodes,\n",
    "            max(rolling_avg_scores(scores, 20)),\n",
    "            model1_loss,\n",
    "            memory_max_prioritization,\n",
    "            memory_size), end=\"\")\n",
    "        sys.stdout.flush()\n",
    "    end_time = datetime.utcnow()\n",
    "    return scores, end_time - start_time, health_checks"
   ]
  },
  {
   "cell_type": "code",
   "execution_count": 9,
   "metadata": {},
   "outputs": [
    {
     "name": "stdout",
     "output_type": "stream",
     "text": [
      "Episode 499/500 | Max Average Score: -166.20 | Model 1 loss: 16.58 | Memory max prioritization: 1.00 | Memory size: 547242"
     ]
    }
   ],
   "source": [
    "scores, run_timing, health_checks = run(env, dlq_agent, num_episodes=Config().num_episodes)\n",
    "with open('training_log.txt', 'a') as file:\n",
    "    file.write(\"Training run on %s \\n\" % datetime.utcnow().isoformat())\n",
    "    file.write(\"Lasted %dmin%d \\n\" % (run_timing.seconds // 60, run_timing.seconds % 60))\n",
    "    file.write(json.dumps(Config().as_dict(), indent=2))\n",
    "    file.write(\"\\nMax average score: %f\\n\\n\" % max(rolling_avg_scores(scores, 20)))"
   ]
  },
  {
   "cell_type": "code",
   "execution_count": 10,
   "metadata": {},
   "outputs": [
    {
     "data": {
      "image/png": "[encoded data removed]",
      "text/plain": [
       "<Figure size 432x288 with 1 Axes>"
      ]
     },
     "metadata": {
      "needs_background": "light"
     },
     "output_type": "display_data"
    }
   ],
   "source": [
    "import matplotlib.pyplot as plt\n",
    "%matplotlib inline\n",
    "plt.plot(np.arange(len(scores)), scores)\n",
    "plt.plot(np.arange(19, len(scores)), rolling_avg_scores(scores, 20))\n",
    "plt.ylabel('Score')\n",
    "plt.xlabel('Episode #')\n",
    "plt.show()"
   ]
  },
  {
   "cell_type": "code",
   "execution_count": null,
   "metadata": {},
   "outputs": [],
   "source": [
    "from operator import itemgetter\n",
    "losses = [x for x in map(itemgetter(0), health_checks)]\n",
    "plt.plot(np.arange(len(losses)), losses)\n",
    "plt.show()"
   ]
  },
  {
   "cell_type": "code",
   "execution_count": null,
   "metadata": {},
   "outputs": [],
   "source": []
  }
 ],
 "metadata": {
  "kernelspec": {
   "display_name": "drlnd",
   "language": "python",
   "name": "drlnd"
  },
  "language_info": {
   "codemirror_mode": {
    "name": "ipython",
    "version": 3
   },
   "file_extension": ".py",
   "mimetype": "text/x-python",
   "name": "python",
   "nbconvert_exporter": "python",
   "pygments_lexer": "ipython3",
   "version": "3.6.10"
  }
 },
 "nbformat": 4,
 "nbformat_minor": 4
}
