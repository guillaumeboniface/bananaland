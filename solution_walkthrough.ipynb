{
 "cells": [
  {
   "cell_type": "markdown",
   "metadata": {},
   "source": [
    "## Load the environment\n",
    "\n",
    "---"
   ]
  },
  {
   "cell_type": "code",
   "execution_count": 1,
   "metadata": {},
   "outputs": [
    {
     "name": "stderr",
     "output_type": "stream",
     "text": [
      "Using TensorFlow backend.\n"
     ]
    }
   ],
   "source": [
    "from unityagents import UnityEnvironment\n",
    "import numpy as np\n",
    "from agent import DLQAgent\n",
    "from datetime import datetime\n",
    "import sys\n",
    "import json"
   ]
  },
  {
   "cell_type": "code",
   "execution_count": 2,
   "metadata": {},
   "outputs": [
    {
     "name": "stderr",
     "output_type": "stream",
     "text": [
      "INFO:unityagents:\n",
      "'Academy' started successfully!\n",
      "Unity Academy name: Academy\n",
      "        Number of Brains: 1\n",
      "        Number of External Brains : 1\n",
      "        Lesson number : 0\n",
      "        Reset Parameters :\n",
      "\t\t\n",
      "Unity brain name: BananaBrain\n",
      "        Number of Visual Observations (per agent): 0\n",
      "        Vector Observation space type: continuous\n",
      "        Vector Observation space size (per agent): 37\n",
      "        Number of stacked Vector Observation: 1\n",
      "        Vector Action space type: discrete\n",
      "        Vector Action space size (per agent): 4\n",
      "        Vector Action descriptions: , , , \n"
     ]
    }
   ],
   "source": [
    "env = UnityEnvironment(file_name=\"../Banana.app\")\n",
    "# get the default brain\n",
    "brain_name = env.brain_names[0]\n",
    "brain = env.brains[brain_name]"
   ]
  },
  {
   "cell_type": "markdown",
   "metadata": {},
   "source": [
    "## Create the DLQ agent\n",
    "\n",
    "---"
   ]
  },
  {
   "cell_type": "code",
   "execution_count": 3,
   "metadata": {},
   "outputs": [],
   "source": [
    "#TODO: find a more readable way to declare the config\n",
    "class Config:\n",
    "    def __init__(self):\n",
    "        self.num_episodes = 1500\n",
    "        self.gamma = 0.99\n",
    "        self.epsilon_start = 0\n",
    "        self.epsilon_decay = 0.995\n",
    "        self.epsilon_min = 0\n",
    "        self.tau = 1e-2\n",
    "        self.memory_size = int(1e5)\n",
    "        self.min_prioritization = 1e-4\n",
    "        self.prioritization_exponent = 0.5\n",
    "        self.prioritization_importance_sampling_start = 0.4\n",
    "        self.prioritization_importance_sampling_end = 1\n",
    "        self.batch_size = 64\n",
    "        self.update_every = 10\n",
    "        self.mlp_layers = (200, 150)\n",
    "        self.learning_rate = 5e-4\n",
    "        \n",
    "        \n",
    "    def as_dict(self):\n",
    "        return self.__dict__\n",
    "\n",
    "env_info = env.reset(train_mode=True)[brain_name]\n",
    "dlq_agent = DLQAgent(Config(), brain.vector_action_space_size, len(env_info.vector_observations[0]))"
   ]
  },
  {
   "cell_type": "markdown",
   "metadata": {},
   "source": [
    "## Train the agent\n",
    "\n",
    "---"
   ]
  },
  {
   "cell_type": "code",
   "execution_count": 4,
   "metadata": {},
   "outputs": [],
   "source": [
    "def rolling_avg_scores(scores, window):\n",
    "    if len(scores) <= window:\n",
    "        return [np.mean(scores)]\n",
    "    else:\n",
    "        return [np.mean(scores[x:x+window]) for x in range(len(scores) - window + 1)]\n",
    "\n",
    "def run(env, brain_name, agent, num_episodes=1500):\n",
    "    start_time = datetime.utcnow()\n",
    "    scores = []\n",
    "    for i_episode in range(num_episodes):\n",
    "        env_info = env.reset(train_mode=True)[brain_name]  # reset the environment\n",
    "        state = env_info.vector_observations[0]            # get the current state\n",
    "        score = 0\n",
    "        while True:\n",
    "            action = agent.act(state)                      # select an action\n",
    "            env_info = env.step(action)[brain_name]        # send the action to the environment\n",
    "            next_state = env_info.vector_observations[0]   # get the next state\n",
    "            reward = env_info.rewards[0]                   # get the reward\n",
    "            done = env_info.local_done[0]                  # see if episode has finished\n",
    "            score += reward                                # update the score\n",
    "            agent.step(\n",
    "                state, action, next_state, reward, done)   # update the agent\n",
    "            state = next_state                             # roll over the state to next time step\n",
    "            if done:                                       # exit loop if episode finished\n",
    "                scores.append(score)\n",
    "                break\n",
    "        print(\"\\rEpisode {}/{} | Max Average Score: {}\".format(i_episode, num_episodes, max(rolling_avg_scores(scores, 20))), end=\"\")\n",
    "        sys.stdout.flush()\n",
    "    end_time = datetime.utcnow()\n",
    "    return scores, end_time - start_time"
   ]
  },
  {
   "cell_type": "code",
   "execution_count": null,
   "metadata": {},
   "outputs": [
    {
     "name": "stdout",
     "output_type": "stream",
     "text": [
      "Episode 1274/1500 | Max Average Score: 1.0556666666666667"
     ]
    }
   ],
   "source": [
    "scores, run_timing = run(env, brain_name, dlq_agent, num_episodes=Config().num_episodes)\n",
    "with open('training_log.txt', 'a') as file:\n",
    "    file.write(\"Training run on %s \\n\" % datetime.utcnow().isoformat())\n",
    "    file.write(\"Lasted %dmin%d \\n\" % (run_timing.seconds // 60, run_timing.seconds % 60))\n",
    "    file.write(json.dumps(config.as_dict()))\n",
    "    file.write(\"\\nMax average score: %f\\n\\n\" % rolling_avg_scores)"
   ]
  },
  {
   "cell_type": "code",
   "execution_count": null,
   "metadata": {},
   "outputs": [],
   "source": [
    "import matplotlib.pyplot as plt\n",
    "%matplotlib inline\n",
    "plt.plot(np.arange(len(scores)), scores)\n",
    "plt.plot(np.arange(len(20, scores)), rolling_avg_scores(scores, 20))\n",
    "plt.ylabel('Score')\n",
    "plt.xlabel('Episode #')\n",
    "plt.show()"
   ]
  }
 ],
 "metadata": {
  "kernelspec": {
   "display_name": "drlnd",
   "language": "python",
   "name": "drlnd"
  },
  "language_info": {
   "codemirror_mode": {
    "name": "ipython",
    "version": 3
   },
   "file_extension": ".py",
   "mimetype": "text/x-python",
   "name": "python",
   "nbconvert_exporter": "python",
   "pygments_lexer": "ipython3",
   "version": "3.6.10"
  }
 },
 "nbformat": 4,
 "nbformat_minor": 4
}
